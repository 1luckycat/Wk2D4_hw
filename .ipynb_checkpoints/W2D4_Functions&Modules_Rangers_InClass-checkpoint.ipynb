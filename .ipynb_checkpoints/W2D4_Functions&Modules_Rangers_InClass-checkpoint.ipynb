{
 "cells": [
  {
   "cell_type": "markdown",
   "metadata": {},
   "source": [
    "# User-Defined Functions & Scoping"
   ]
  },
  {
   "cell_type": "markdown",
   "metadata": {},
   "source": [
    "## Tasks Today:\n",
    "\n",
    "\n",
    "1) Functions <br>\n",
    " &nbsp;&nbsp;&nbsp;&nbsp; a) User-Defined vs. Built-In Functions <br>\n",
    " &nbsp;&nbsp;&nbsp;&nbsp; b) Accepting Parameters <br>\n",
    " &nbsp;&nbsp;&nbsp;&nbsp; c) Default Parameters <br>\n",
    " &nbsp;&nbsp;&nbsp;&nbsp; d) Making an Argument Optional <br>\n",
    " &nbsp;&nbsp;&nbsp;&nbsp; e) Keyword Arguments <br>\n",
    " &nbsp;&nbsp;&nbsp;&nbsp; f) Returning Values <br>\n",
    " &nbsp;&nbsp;&nbsp;&nbsp; g) *args <br>\n",
    " &nbsp;&nbsp;&nbsp;&nbsp; h) Docstring <br>\n",
    " &nbsp;&nbsp;&nbsp;&nbsp; i) Using a User Function in a Loop <br>\n",
    "2) Scope\n",
    "3) Creating more User-Defined functions \n",
    "4) Modules <br>\n",
    " &nbsp;&nbsp;&nbsp;&nbsp; a) Importing Entire Modules <br>\n",
    " &nbsp;&nbsp;&nbsp;&nbsp; b) Importing Methods Only <br>\n",
    " &nbsp;&nbsp;&nbsp;&nbsp; c) Using the 'as' Keyword <br>\n",
    " &nbsp;&nbsp;&nbsp;&nbsp; d) Creating a Module <br>"
   ]
  },
  {
   "cell_type": "markdown",
   "metadata": {},
   "source": [
    "\n",
    "## Functions"
   ]
  },
  {
   "cell_type": "markdown",
   "metadata": {},
   "source": [
    "##### User-Defined vs. Built-In Functions"
   ]
  },
  {
   "cell_type": "code",
   "execution_count": null,
   "metadata": {},
   "outputs": [],
   "source": [
    "# built-in function\n",
    "# print(\"hello\")  <--print function\n",
    "# max()\n",
    "# min()\n",
    "# sum()\n",
    "# len()\n",
    "\n",
    "# User defined function is something we made ourselves\n",
    "# def keyword, function_name():\n",
    "def say_hello():\n",
    "#       return gives the function a tangible output\n",
    "    return \"Hello\"\n",
    "# calling a function\n",
    "# function_name()\n",
    "# always make sure to add parantheses when making a function call\n",
    "say_hello()\n",
    "\n",
    "# printing a function call\n",
    "print(say_hello())  #<------ printing the output of say_hello  / print(function_name())\n",
    "\n",
    "# user defined function\n",
    "def say_hello_again():\n",
    "    return \"hello again\"\n",
    "\n",
    "# using a built-in function on the return of a user defined function\n",
    "print(say_hello_again().upper())\n",
    "\n",
    "# difference between print and return\n",
    "def third_hello():\n",
    "#     print does not give our function a returned value\n",
    "    print(\"hello a third time\")\n",
    "# cannot call built-in functions on a function that prints because there is no output\n",
    "# third_hello().upper()     <-----will give an error\n",
    "\n",
    "# storing the return of a function to a variable\n",
    "hello = say_hello()\n",
    "print(\"Variable storing the output of say_hello()\", hello)\n"
   ]
  },
  {
   "cell_type": "markdown",
   "metadata": {},
   "source": [
    "##### Accepting Parameters"
   ]
  },
  {
   "cell_type": "code",
   "execution_count": null,
   "metadata": {
    "scrolled": true
   },
   "outputs": [],
   "source": [
    "# elements passed into a function\n",
    "# variables to hold the place of items our function will act upon\n",
    "# order matters\n",
    "# a parameter can be of any object type (data type)\n",
    "# num = 6\n",
    "# if num % 2 == 0:\n",
    "#     print(\"even\")\n",
    "# else:\n",
    "#     print(\"odd\")\n",
    "\n",
    "                    #parameter - a placeholder for the argument\n",
    "def return_something(anything):\n",
    "            # acting upon that parameter\n",
    "    return anything\n",
    "                        #argument is the object we pass into the function\n",
    "print(return_something(\"The weather is kinda gross here today\"))\n",
    "                    #argument\n",
    "print(return_something(4))\n",
    "                        #argument\n",
    "print(return_something([1, 2, 3, 4, \"hello\", \"goodbye\"]))\n",
    "\n",
    "def make_sentence(noun, adjective, verb):\n",
    "    return f\"The {noun} is very {adjective} while it {verb}\"   #<----- use {} when in a f\"\" string/sentence\n",
    "print(make_sentence(\"Ferrari\", \"copacetic \", \"busts \"))\n",
    "\n",
    "# order of arguments matters\n",
    "def add_and_length(num, string):\n",
    "    return num+1, len(string)\n",
    "print(add_and_length(5, \"hello\"))   #<---- if hello is first and 5 is second, itll give an error \n"
   ]
  },
  {
   "cell_type": "markdown",
   "metadata": {},
   "source": [
    "##### Default Parameters"
   ]
  },
  {
   "cell_type": "code",
   "execution_count": null,
   "metadata": {},
   "outputs": [],
   "source": [
    "# default parameters must always come after non-default parameters at all times forever and ever...or else\n",
    "                            # default parameter\n",
    "def agent_name(first_name, last_name=\"Bond\"):\n",
    "    return f\"The name is {last_name}....{first_name} {last_name}\"\n",
    "# the default parameter is used when that parameter is not fufilled positionally by an argument\n",
    "print(agent_name(\"James\"))\n",
    "print(agent_name(\"Leroy\", \"Jenkins\"))"
   ]
  },
  {
   "cell_type": "code",
   "execution_count": null,
   "metadata": {},
   "outputs": [],
   "source": [
    "# default parameters must always come after non-default parameters at all times forever and ever...or else\n",
    "def birthday_month(day, month = \"January\"):\n",
    "    return f\"Alex's birthday is {month} {day}.... happy birthday on that month and day!\"\n",
    "print(birthday_month(21))\n",
    "\n",
    "def birthday_month(day, month = \"January\"):\n",
    "    return f\"Will's birthday is {month} {day}.... happy birthday on that month and day!\"\n",
    "print(birthday_month(24, \"November\"))"
   ]
  },
  {
   "cell_type": "markdown",
   "metadata": {},
   "source": [
    "##### Making an Argument Optional"
   ]
  },
  {
   "cell_type": "code",
   "execution_count": null,
   "metadata": {},
   "outputs": [],
   "source": [
    "def print_full_name(first, last, middle=\"\"):\n",
    "    if middle == \"\":\n",
    "        return f\"Hello {first} {last}\"\n",
    "    return f\"Hello {first} {middle} {last}\"\n",
    "print(print_full_name(\"Ryan\", \"Rhoades\"))\n",
    "print(print_full_name(\"Ryan\", \"Rhoades\", \"Allen\"))"
   ]
  },
  {
   "cell_type": "markdown",
   "metadata": {},
   "source": [
    "##### Keyword Arguments"
   ]
  },
  {
   "cell_type": "code",
   "execution_count": null,
   "metadata": {},
   "outputs": [],
   "source": [
    "#keyword arguments must follow positional arugments\n",
    "            # parameter1, parameter2, default parameter\n",
    "def print_hero(name, secret_identity, power=\"flying\"):\n",
    "    return f\"{name}'s power is {power} and their secret identity is {secret_identity}\"\n",
    "                                          #keyword argument\n",
    "# print(print_hero(\"Batman\", \"Bruce Wayne\", power=\"money\"))\n",
    "print(print_hero(\"Batman\", \"Bruce Wayne\", power=\"money\"))\n",
    "print(print_hero(power=\"money\", name =\"Batman\", secret_identity=\"Bruce Wayne\"))  #<-----if given keyword arguments, order can go anywhere\n",
    "# if one has no keyword, has to be in order"
   ]
  },
  {
   "cell_type": "code",
   "execution_count": null,
   "metadata": {},
   "outputs": [],
   "source": [
    "def print_color(color1, color2, color3):\n",
    "    return f\"These are our favorite colors: {color1}, {color2}, {color3}\"\n",
    "print(print_color(color1 = \"yellow\", color3 = \"green\", color2 = \"magenta\"))"
   ]
  },
  {
   "cell_type": "markdown",
   "metadata": {},
   "source": [
    "# Creating a start, stop, step function"
   ]
  },
  {
   "cell_type": "code",
   "execution_count": null,
   "metadata": {
    "scrolled": true
   },
   "outputs": [],
   "source": [
    "# range(stop, start=0, step=1)\n",
    "def my_range(stop, start=0, step=1):\n",
    "    for i in range(start, stop, step):\n",
    "        print(i)\n",
    "    return \"Hey, great job, you're beautiful\"\n",
    "print(my_range(11))\n",
    "print(my_range(11, 5))\n",
    "print(my_range(20, 5, 3)) \n"
   ]
  },
  {
   "cell_type": "code",
   "execution_count": null,
   "metadata": {},
   "outputs": [],
   "source": [
    "# ouput a new list with each number from nums_list squared\n",
    "nums_list = [2, 4, 6, 8]\n",
    "nums_list2 = [3, 5, 7, 9]\n",
    "nums_list3 = [10, 15, 20, 15]\n",
    "\n",
    "def square_nums(a_list):\n",
    "    square_list = []\n",
    "    for num in a_list:\n",
    "        square_list.append(num**2)\n",
    "    return square_list\n",
    "print(square_nums(nums_list))\n",
    "print(square_nums(nums_list2))\n",
    "print(square_nums(nums_list3))"
   ]
  },
  {
   "cell_type": "markdown",
   "metadata": {},
   "source": [
    "##### Returning Values"
   ]
  },
  {
   "cell_type": "code",
   "execution_count": null,
   "metadata": {},
   "outputs": [],
   "source": [
    "poke_list = [\"Charmander\", \"Squirtle\", \"Cyndaquil\", \"Chikorita\"]\n",
    "def find_a_bulbasaur(arr):\n",
    "    for poke in arr:\n",
    "        if poke == \"Bulbasaur\":\n",
    "            return \"Bulba Bulba\"\n",
    "    return \"No Bulbasuar, sad\"\n",
    "print(find_a_bulbasaur(poke_list))"
   ]
  },
  {
   "cell_type": "code",
   "execution_count": null,
   "metadata": {},
   "outputs": [],
   "source": [
    "def is_bulbasaur(string):\n",
    "    if string == \"Bulb Bulba\":\n",
    "        return \"You caught a Bulbasaur!\"\n",
    "    return \"Oh! The Bulbasaur appeared to be caught!\"\n",
    "\n",
    "func_output = find_a_bulbasaur(poke_list)\n",
    "# print(func_output)\n",
    "# #                   \"Bulba Bulba\"\n",
    "print(is_bulbasaur(func_output))\n",
    "\n",
    "# is_bulbasaur(find_a_bulbasaur(poke_list))\n",
    "    "
   ]
  },
  {
   "cell_type": "markdown",
   "metadata": {},
   "source": [
    "##### *args / **kwargs (keyword arguments)"
   ]
  },
  {
   "cell_type": "code",
   "execution_count": null,
   "metadata": {},
   "outputs": [],
   "source": [
    "#*args, **kwargs\n",
    "# *args stands for arguments and will allow the function to take in any number of arguments\n",
    "# **kwargs stands for key word arguments and will allow the function to take in any number of keyword arguments\n",
    "# if other parameters are present, args and kwargs must go last\n",
    "\n",
    "# args gives a tuple!!!\n",
    "\n",
    "def print_args(*args):    #<----def print(*any argument name):\n",
    "    print(args)\n",
    "    for fruit in args:\n",
    "        print(fruit)\n",
    "print_args(\"Apple\", \"banana\", \"Grape\", \"Strawberry\")\n",
    "\n"
   ]
  },
  {
   "cell_type": "code",
   "execution_count": null,
   "metadata": {},
   "outputs": [],
   "source": [
    "# **kwargs stands for key word arguments and will allow the function to take in any number of keyword arguments\n",
    "\n",
    "# kwargs gives a dictionary!!!   difference from args and kwargs - kwargs have keywords = \"argument\"\n",
    "\n",
    "def print_kwargs(**kwargs):     \n",
    "    print(kwargs)\n",
    "    for poke, poke_type in kwargs.items():\n",
    "        print(f\"{poke} is a {poke_type} type\")\n",
    "print_kwargs(Charmander = \"fire\", Squirtle = \"water\", Bulbasaur = \"grass\")\n"
   ]
  },
  {
   "cell_type": "code",
   "execution_count": null,
   "metadata": {},
   "outputs": [],
   "source": [
    "# if other parameters are present, args and kwargs must go last\n",
    "def print_everything(num1, num2, num3, *args, **kwargs):\n",
    "    print(\"These are my positional arguments (parameters):\", num1, num2, num3)\n",
    "    print(\"This any number of args:\", args)\n",
    "    print(\"This is any number of kwargs:\", kwargs)\n",
    "\n",
    "print_everything(1, 2, 3, \"Apple\", \"Banana\", \"Grape\", 56, [\"hello\", \"goodbye\"], Charmander = \"fire\", Squirtle = \"water\", Bulbasaur = \"grass\")"
   ]
  },
  {
   "cell_type": "code",
   "execution_count": null,
   "metadata": {},
   "outputs": [],
   "source": [
    "# my own example\n",
    "def example(str1, num1, *args, **kwargs):\n",
    "    print(\"positionals:\", str1, num1)\n",
    "    print(\"args:\", args)\n",
    "    print(\"kwargs:\", kwargs)\n",
    "\n",
    "example(\"Hi\", 2, \"Apple\", \"Banana\", \"Cherry\", Charmander = \"fire\", Squirtle = \"water\")"
   ]
  },
  {
   "cell_type": "markdown",
   "metadata": {},
   "source": [
    "##### Docstring"
   ]
  },
  {
   "cell_type": "code",
   "execution_count": null,
   "metadata": {},
   "outputs": [],
   "source": [
    "# docstrings are a really nice way to leave notes about funciontality in your code\n",
    "# provide instructions\n",
    "def print_names(arr):\n",
    "#    docstring \"\"\"   \"\"\"  or '''   '''    <--------can leave multiple line comments/notes for the coder\n",
    "    \"\"\"    \n",
    "    print_names(arr)\n",
    "    Function requires a list to be passed as an argument.\n",
    "    It will print contents of the list. The list is expected to contain strings.\n",
    "    \"\"\"\n",
    "    for name in arr:\n",
    "        print(name)\n",
    "\n",
    "help(print)\n",
    "help(print_names)\n",
    "\n",
    "print_names(['Ryan', 'Alex', 'Alex', 'Justin', 'Will'])\n",
    "\n",
    "def squared_num(number):\n",
    "    \"\"\"\n",
    "    This function expected to take in a single integer or a float.\n",
    "    The integer or float will be squared and returned\n",
    "    \"\"\"\n",
    "\n"
   ]
  },
  {
   "cell_type": "markdown",
   "metadata": {},
   "source": [
    "##### Using a User Function in a Loop"
   ]
  },
  {
   "cell_type": "code",
   "execution_count": null,
   "metadata": {},
   "outputs": [],
   "source": [
    "def print_input(answer):\n",
    "    print(f\"This is the output from print_input.  Here is what you have going on: {answer}\")\n",
    "\n",
    "while True:\n",
    "    ask = input(\"What's goin on?\")\n",
    "\n",
    "    print_input(ask)\n",
    "\n",
    "    response = input(\"Are you ready to quit? \")\n",
    "    if response.lower()==\"yes\":\n",
    "        break"
   ]
  },
  {
   "cell_type": "markdown",
   "metadata": {},
   "source": [
    "## Function Exercises <br>\n",
    "### Exercise 1\n",
    "<p>Write a function that loops through a list of first_names and a list of last_names, combines the two and return a list of full_names</p>"
   ]
  },
  {
   "cell_type": "code",
   "execution_count": null,
   "metadata": {},
   "outputs": [],
   "source": [
    "first_name = ['John', 'Evan', 'Jordan', 'Max']\n",
    "last_name = ['Smith', 'Smith', 'Williams', 'Bell']\n",
    "\n",
    "# Output: ['John Smith', 'Evan Smith', 'Jordan Williams', 'Max Bell']\n"
   ]
  },
  {
   "cell_type": "code",
   "execution_count": null,
   "metadata": {},
   "outputs": [],
   "source": [
    "# Razvan's answer:\n",
    "\n",
    "def long_names(first_name, last_name):\n",
    "    \n",
    "   \n",
    "    full_names = []\n",
    "    for i in range(len(first_name)):\n",
    "        full_name = f\"{first_name[i]} {last_name[i]}\"\n",
    "        full_names.append(full_name)\n",
    "    return full_names\n",
    "\n",
    "allnames = long_names(first_name, last_name)\n",
    "print(allnames)\n",
    "# another way to print\n",
    "print(long_names(first_name, last_name))"
   ]
  },
  {
   "cell_type": "code",
   "execution_count": null,
   "metadata": {},
   "outputs": [],
   "source": [
    "# using zip()\n",
    "\n",
    "first_name = ['John', 'Evan', 'Jordan', 'Max']\n",
    "last_name = ['Smith', 'Smith', 'Williams', 'Bell']\n",
    "output = [name1 + \" \" + name2 for name1, name2 in zip(first_name, last_name)]\n",
    "print(output)"
   ]
  },
  {
   "cell_type": "code",
   "execution_count": null,
   "metadata": {},
   "outputs": [],
   "source": [
    "def list_comp_names(first_name, last_name):\n",
    "    return [first_name[i] + \" \" + last_name[i] for i in range(len(first_name))]\n",
    "list_comp_names(first_name, last_name)"
   ]
  },
  {
   "cell_type": "markdown",
   "metadata": {},
   "source": [
    "### Exercise 2\n",
    "Create a function that alters all values in the given list by subtracting 5 and then doubling them."
   ]
  },
  {
   "cell_type": "code",
   "execution_count": null,
   "metadata": {},
   "outputs": [],
   "source": [
    "input_list = [5,10,15,20,3]\n",
    "# output = [0,10,20,30,-4]\n",
    "\n",
    "#  Alex H's answer:\n",
    "\n",
    "def calc_list(arr):\n",
    "    calc_list = []\n",
    "    for num in arr:  \n",
    "        final_calc = (num-5)*2\n",
    "        calc_list.append(final_calc)\n",
    "    return calc_list\n",
    "\n",
    "# another way\n",
    "    # return[((num-5)*2) for num in arr]\n",
    "calc_list(input_list)\n"
   ]
  },
  {
   "cell_type": "markdown",
   "metadata": {},
   "source": [
    "### Exercise 3\n",
    "Create a function that takes in a list of strings and filters out the strings that DO NOT contain vowels. "
   ]
  },
  {
   "cell_type": "code",
   "execution_count": null,
   "metadata": {},
   "outputs": [],
   "source": [
    "string_list = ['Sheldon','Pnny','Leonard','Hwrd','Rj','Amy','Strt']\n",
    "# output = ['Sheldon','Leonard','Amy']\n",
    "\n",
    "\n",
    "# Alex H's answer:\n",
    "\n",
    "def vowels_only(lis):\n",
    "    vowels = [\"a\", \"e\", \"i\", \"o\", \"u\"]\n",
    "    cool_names = []\n",
    "    \n",
    "    for name in lis:\n",
    "        for letter in name:\n",
    "            if letter.lower() in vowels:\n",
    "                cool_names.append(name)\n",
    "                break\n",
    "                \n",
    "    return cool_names\n",
    "\n",
    "print(vowels_only(string_list))"
   ]
  },
  {
   "cell_type": "code",
   "execution_count": null,
   "metadata": {},
   "outputs": [],
   "source": [
    "def vowels_only(lis):\n",
    "    vowels = {\"a\", \"e\", \"i\", \"o\", \"u\"}   #<-----this helps it make it faster to check for membership\n",
    "    cool_names = []\n",
    "    \n",
    "    for name in lis:\n",
    "        for letter in name:\n",
    "            if letter.lower() in vowels:\n",
    "                cool_names.append(name)\n",
    "                break\n",
    "                \n",
    "    return cool_names\n",
    "\n",
    "print(vowels_only(string_list))"
   ]
  },
  {
   "cell_type": "code",
   "execution_count": null,
   "metadata": {},
   "outputs": [],
   "source": [
    "# another way in list comprehension (1 liner)\n",
    "def vowels_only(lis):\n",
    "    vowels = {\"a\", \"e\", \"i\", \"o\", \"u\"}\n",
    "    return [name for name in lis if any(letter.lower() for letter in name if letter.lower() in vowels)]\n",
    "print(vowels_only(string_list))"
   ]
  },
  {
   "cell_type": "markdown",
   "metadata": {},
   "source": [
    "### Exercise 4\n",
    "Create a function that accepts a list as a parameter and returns a dictionary containing the list items as it's keys, and the number of times they appear in the list as the values"
   ]
  },
  {
   "cell_type": "code",
   "execution_count": null,
   "metadata": {},
   "outputs": [],
   "source": [
    "example_list = [\"Harry\", 'Hermione','Harry','Ron','Dobby','Draco','Luna','Harry','Hermione','Ron','Ron','Ron']\n",
    "\n",
    "# output = {\n",
    "#     \"Harry\":3,\n",
    "#     \"Hermione\":2,\n",
    "#     \"Ron\":4,\n",
    "#     \"Dobby\":1,\n",
    "#     \"Draco\":1,\n",
    "#     \"Luna\": 1\n",
    "# }\n",
    "\n",
    "# Morgan's Answer:\n",
    "def count_potter(example_list):\n",
    "    count_dict = {}\n",
    "    for name in example_list:\n",
    "        if name not in count_dict:\n",
    "            count_dict[name] = 1\n",
    "            print(count_dict)\n",
    "        else:\n",
    "            count_dict[name] += 1\n",
    "            print(count_dict)\n",
    "    return count_dict\n",
    "\n",
    "count_potter(example_list)\n"
   ]
  },
  {
   "cell_type": "markdown",
   "metadata": {},
   "source": [
    "\n",
    "\n",
    "## Scope <br>\n",
    "<p>Scope refers to the ability to access variables, different types of scope include:<br>a) Global<br>b) Function (local)<br>c) Class (local)</p>"
   ]
  },
  {
   "cell_type": "code",
   "execution_count": null,
   "metadata": {},
   "outputs": [],
   "source": [
    "# placement of variable declaration matters\n",
    "\n",
    "number = 3 #<----global variable - has the least amount of \"protection\"\n",
    "\n",
    "def return_num(num2):\n",
    "    num = num2   #locally scoped function variable  --- cant access outside of function\n",
    "    num3 = 5   # also locally scoped function variable\n",
    "    print(\"accessing golabal variable in a function\", number)  #<---example showing how global can be accessed in function still\n",
    "    return num, num3\n",
    "print(return_num(number))\n",
    "\n",
    "print(\"global variable\", number)\n",
    "# print(num)   <---- wont run b/c name \"num\" is not defined.  We cant access variables defined in a function\n",
    "# print(num3) <---- wont run b/c name \"num\" is not defined.  We cant access variables defined in a function\n"
   ]
  },
  {
   "cell_type": "markdown",
   "metadata": {},
   "source": [
    "## Modules"
   ]
  },
  {
   "cell_type": "markdown",
   "metadata": {},
   "source": [
    "##### Importing Entire Modules\n"
   ]
  },
  {
   "cell_type": "code",
   "execution_count": null,
   "metadata": {},
   "outputs": [],
   "source": [
    "## Modules\n",
    "import math\n",
    "num = 5\n",
    "num2 = 2\n",
    "num3 = num // num2\n",
    "print(num3)\n",
    "\n",
    "print(math.ceil(num/num2))   #<-----.ceil will round up to whole number\n",
    "\n",
    "print(math.pi)\n",
    "\n",
    "print(math.ceil(math.pi))\n",
    "\n",
    "my_pi = math.pi\n",
    "print(my_pi)\n",
    "\n",
    "print(math.floor(my_pi))   #<-----.floor rounds down"
   ]
  },
  {
   "cell_type": "markdown",
   "metadata": {},
   "source": [
    "##### Importing Methods Only"
   ]
  },
  {
   "cell_type": "code",
   "execution_count": null,
   "metadata": {},
   "outputs": [],
   "source": [
    "# from xxx import yyy\n",
    "# from <modulename> import <method>\n",
    "#from math import floor\n",
    "\n",
    "from math import floor, pi, ceil\n",
    "print(pi)\n",
    "\n",
    "print(floor(4.8))\n",
    "\n",
    "print(ceil(65.2))\n"
   ]
  },
  {
   "cell_type": "markdown",
   "metadata": {},
   "source": [
    "##### \n",
    "Using the 'as' Keyword"
   ]
  },
  {
   "cell_type": "code",
   "execution_count": null,
   "metadata": {},
   "outputs": [],
   "source": [
    "# from xxx import yyy as z\n",
    "from math import pi as p, floor as f, ceil as c  #<----changing the name of module to something else\n",
    "\n",
    "print(p)\n",
    "\n",
    "print(f(p))\n",
    "\n",
    "print(c(p))"
   ]
  },
  {
   "cell_type": "markdown",
   "metadata": {},
   "source": [
    "##### Creating a Module"
   ]
  },
  {
   "cell_type": "code",
   "execution_count": null,
   "metadata": {},
   "outputs": [],
   "source": [
    "from module import printName as pn  #<----importing from the module.py file in folder\n",
    "#  ^^^ importing file that has printName function and rename with \"as\" to pn\n",
    "pn(\"Ryan\")\n",
    "\n"
   ]
  },
  {
   "cell_type": "markdown",
   "metadata": {},
   "source": [
    "# Homework Exercises"
   ]
  },
  {
   "cell_type": "markdown",
   "metadata": {},
   "source": [
    "### 1) Create a Module in VS Code and Import It into jupyter notebook <br>\n",
    "<p><b>Module should have the following capabilities:</b><br><br>\n",
    "1a) Has a function to calculate the square footage of a house <br>\n",
    "    <b>Reminder of Formula: Length X Width == Area</b><br>\n",
    "        <hr>\n",
    "1b) Has a function to calculate the circumference of a circle 2 Pi r <br><br>\n",
    "<b>Program in Jupyter Notebook should take in user input and use imported functions to calculate a circle's circumference or a houses square footage</b>\n",
    "</p>"
   ]
  },
  {
   "cell_type": "code",
   "execution_count": null,
   "metadata": {},
   "outputs": [],
   "source": [
    "from hw import square_footage as sqft, circumference as c\n",
    "\n",
    "print(sqft())\n",
    "\n",
    "print(c())\n"
   ]
  },
  {
   "cell_type": "markdown",
   "metadata": {},
   "source": [
    "### 2) Build a Shopping Cart Function <br>\n",
    "<p><b>You can use either lists or dictionaries. The program should have the following capabilities:</b><br><br>\n",
    "1) Takes in input <br>\n",
    "2) Stores user input into a dictionary or list <br>\n",
    "3) The User can add or delete items <br>\n",
    "4) The User can see current shopping list <br>\n",
    "5) The program Loops until user 'quits' <br>\n",
    "6) Upon quiting the program, print out all items in the user's list <br>\n",
    "</p>"
   ]
  },
  {
   "cell_type": "code",
   "execution_count": null,
   "metadata": {},
   "outputs": [],
   "source": [
    "from IPython.display import clear_output\n",
    "\n",
    "# Ask the user four bits of input: Do you want to : Show/Add/Delete or Quit?\n",
    "cart = {}\n",
    "\n",
    "def shopping_cart():\n",
    "    while True: \n",
    "        choice = input(\"Do you want to: Show/Add/Delete or Quit?\")\n",
    "        if choice.lower().strip() == \"show\":\n",
    "            if cart == {}:\n",
    "                print(\"The cart is empty.\")\n",
    "            else: \n",
    "                print(cart)\n",
    "        if choice.lower().strip() == \"add\":\n",
    "            add_cart = input(\"What would you like to add? \")\n",
    "            if add_cart.lower().strip() != \"quit\":\n",
    "                quantity = input(\"How many would you like to add? \")      \n",
    "            if add_cart.lower().strip() == \"quit\" or quantity.lower().strip() == \"quit\":\n",
    "                if cart == {}:\n",
    "                    print(\"The cart is empty.\")        \n",
    "            cart[add_cart.lower().strip()] = quantity\n",
    "        \n",
    "        if choice.lower().strip() == \"delete\":\n",
    "            remove_cart = input(\"What would you like to delete? \")\n",
    "            if remove_cart.lower().strip() != \"quit\":\n",
    "                if remove_cart.lower().strip() not in cart:\n",
    "                    print(\"You dont have any in your cart.\")\n",
    "                else:\n",
    "                    del cart[remove_cart.lower().strip()]\n",
    "            if remove_cart.lower().strip() == \"quit\":\n",
    "                if cart == {}:\n",
    "                    print(\"The cart is empty.\")\n",
    "        \n",
    "        if choice.lower().strip() == \"quit\":\n",
    "            if cart == {}:\n",
    "                print(\"The cart is empty.\")\n",
    "            else: \n",
    "                print(cart)\n",
    "            print(\"Bye bye\")\n",
    "            break\n",
    "\n",
    "shopping_cart()\n"
   ]
  }
 ],
 "metadata": {
  "kernelspec": {
   "display_name": "Python 3 (ipykernel)",
   "language": "python",
   "name": "python3"
  },
  "language_info": {
   "codemirror_mode": {
    "name": "ipython",
    "version": 3
   },
   "file_extension": ".py",
   "mimetype": "text/x-python",
   "name": "python",
   "nbconvert_exporter": "python",
   "pygments_lexer": "ipython3",
   "version": "3.12.0"
  }
 },
 "nbformat": 4,
 "nbformat_minor": 4
}
